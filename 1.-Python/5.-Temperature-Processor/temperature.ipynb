{
 "cells": [
  {
   "cell_type": "markdown",
   "metadata": {},
   "source": [
    "<img src=\"https://bit.ly/2VnXWr2\" width=\"100\" align=\"left\">"
   ]
  },
  {
   "cell_type": "markdown",
   "metadata": {},
   "source": [
    "# Temperature Sensor\n",
    "\n",
    "There is a temperature sensor in the processor of your company's server. The company wants to analyze the data provided by the sensor to decide if they should change the cooling system for a better one. As changing the cooling system is expensive and you are an excellent data analyst, you can't make a decision without basis.\n",
    "\n",
    "## Tools\n",
    "You don't necessarily need to use all the tools. Maybe you opt to use some of them or completely different ones, they are given to help you shape the exercise. Programming exercises can be solved in many different ways.\n",
    "1. Data structures: **lists**\n",
    "2. Loops: **list comprehension**\n",
    "3. Functions: **min, max, print, len**\n",
    "4. Conditional statements: **if-elif-else**\n",
    "\n",
    "## Tasks\n",
    "The temperatures measured throughout the 24 hours of a day are:"
   ]
  },
  {
   "cell_type": "code",
   "execution_count": 1,
   "metadata": {},
   "outputs": [],
   "source": [
    "import pandas as pd\n",
    "temperatures_C = [33, 66, 65, 0, 59, 60, 62, 64, 70, 76, 80, 81, 80, 83, 90, 79, 61, 53, 50, 49, 53, 48, 45, 39]"
   ]
  },
  {
   "cell_type": "markdown",
   "metadata": {},
   "source": [
    "The first element of the list is the temperature at 12am, the second element is the temperature at 1am, and so on. \n",
    "\n",
    "The company has decided that if one of the following events occurs, then the cooling system needs to be replaced for a new one to avoid damaging the processor.\n",
    "* More than 4 temperatures are greater than or equal to 70ºC.\n",
    "* Any temperature is above 80ºC.\n",
    "* The average temperature exceeds 65ºC.\n",
    "\n",
    "Follow the steps so that you can make the decision.\n",
    "\n",
    "#### 1. Find the minimum temperature of the day and store it in a variable."
   ]
  },
  {
   "cell_type": "code",
   "execution_count": 16,
   "metadata": {},
   "outputs": [
    {
     "name": "stdout",
     "output_type": "stream",
     "text": [
      "The minimum temparature is = 0\n"
     ]
    }
   ],
   "source": [
    "min_temp = min(temperatures_C)\n",
    "print(\"The minimum temparature is = %d\" %min_temp)"
   ]
  },
  {
   "cell_type": "markdown",
   "metadata": {},
   "source": [
    "#### 2. Find the maximum temperature of the day and store it in a variable."
   ]
  },
  {
   "cell_type": "code",
   "execution_count": 15,
   "metadata": {},
   "outputs": [
    {
     "name": "stdout",
     "output_type": "stream",
     "text": [
      "The maximum temparature is = 90\n"
     ]
    }
   ],
   "source": [
    "max_temp = max(temperatures_C)\n",
    "print(\"The maximum temparature is = %d\" %max_temp)"
   ]
  },
  {
   "cell_type": "markdown",
   "metadata": {},
   "source": [
    "#### 3. Create a list with the temperatures that are greater than or equal to 70ºC. Store it in a variable."
   ]
  },
  {
   "cell_type": "code",
   "execution_count": 20,
   "metadata": {},
   "outputs": [
    {
     "name": "stdout",
     "output_type": "stream",
     "text": [
      "The temperatures that are greater than or equal to 70ºC are = [70, 76, 80, 81, 80, 83, 90, 79]\n"
     ]
    }
   ],
   "source": [
    "temp_more_than_70 = []\n",
    "t = 70\n",
    "temp_more_than_70 = [i for i in temperatures_C if i >= t]\n",
    "print(\"The temperatures that are greater than or equal to 70ºC are =\", temp_more_than_70)"
   ]
  },
  {
   "cell_type": "markdown",
   "metadata": {},
   "source": [
    "#### 4. Find the average temperature of the day and store it in a variable."
   ]
  },
  {
   "cell_type": "code",
   "execution_count": 21,
   "metadata": {},
   "outputs": [
    {
     "name": "stdout",
     "output_type": "stream",
     "text": [
      "The average temperature of the day = 60.25\n"
     ]
    }
   ],
   "source": [
    "from statistics import mean \n",
    "average = mean(temperatures_C)\n",
    "print(\"The average temperature of the day =\", average)"
   ]
  },
  {
   "cell_type": "markdown",
   "metadata": {},
   "source": [
    "#### 5. Imagine that there was a sensor failure at 3am and the data for that specific hour was not recorded. How would you estimate the missing value? Replace the current value of the list at 3am for an estimation. "
   ]
  },
  {
   "cell_type": "code",
   "execution_count": 10,
   "metadata": {},
   "outputs": [
    {
     "name": "stdout",
     "output_type": "stream",
     "text": [
      "[33, 66, 65, 62, 59, 60, 62, 64, 70, 76, 80, 81, 80, 83, 90, 79, 61, 53, 50, 49, 53, 48, 45, 39]\n"
     ]
    }
   ],
   "source": [
    "temperatures_C[3] = None\n",
    "# Creating the Series\n",
    "sr = pd.Series(temperatures_C)\n",
    "# Create the Index\n",
    "#index = pd.date_range( pd.datetime.now().strftime(\"%d/%m/%Y\"), periods = 24, freq ='H')\n",
    "# set the index\n",
    "#sr.index = index\n",
    "# Print the series\n",
    "#print(sr)\n",
    "\n",
    "# fill the missing value using linear interpolation\n",
    "result = sr.interpolate()\n",
    "# copy value back to main temperatures_C list as an integer\n",
    "resultlist = result.values.tolist()\n",
    "temperatures_C[3] = int(resultlist[3])\n",
    "# Print the result\n",
    "print(temperatures_C)"
   ]
  },
  {
   "cell_type": "markdown",
   "metadata": {},
   "source": [
    "#### 6. Bonus: the maintenance staff is from the United States and does not understand the international metric system. Help them by converting the temperatures from Celsius to Fahrenheit.\n",
    "To know more about temperature conversion check this [link](https://en.wikipedia.org/wiki/Conversion_of_units_of_temperature).\n",
    "\n",
    "**Formula**: \n",
    "\n",
    "$F = 1.8 * C + 32$"
   ]
  },
  {
   "cell_type": "code",
   "execution_count": 11,
   "metadata": {},
   "outputs": [
    {
     "name": "stdout",
     "output_type": "stream",
     "text": [
      "[62, 121, 120, 114, 109, 111, 114, 118, 129, 139, 147, 148, 147, 152, 165, 145, 112, 98, 93, 91, 98, 89, 84, 73]\n"
     ]
    }
   ],
   "source": [
    "temperatures_F = []\n",
    "#change Centigrade to Farenheit\n",
    "# 𝐹=1.8∗𝐶+3\n",
    "for c in temperatures_C:\n",
    "    temperatures_F.append(int(1.8 * c + 3))\n",
    "print(temperatures_F)"
   ]
  },
  {
   "cell_type": "markdown",
   "metadata": {},
   "source": [
    "#### 7. Make a decision!\n",
    "Now it's time to make a decision taking into account what you have seen until now. \n",
    "\n",
    "Remember that if one of the following events occurs, then the cooling system needs to be replaced for a new one to avoid damaging the processor.\n",
    "* More than 4 temperatures are greater than or equal to 70ºC.\n",
    "* Any temperature is above 80ºC.\n",
    "* The average temperature exceeds 65ºC.\n",
    "\n",
    "#### To make your decision, check if any of the three conditions above is met. You might need to use some of the variables you created in steps 1 to 6. Print a message to show if the cooling system needs to be changed or not."
   ]
  },
  {
   "cell_type": "code",
   "execution_count": 17,
   "metadata": {},
   "outputs": [
    {
     "name": "stdout",
     "output_type": "stream",
     "text": [
      "Temperature is above 80ºC. Temperature = 81\n",
      "The cooling system needs to be changed. \n"
     ]
    }
   ],
   "source": [
    "from statistics import mean\n",
    "average = mean(temperatures_C)\n",
    "count = 0\n",
    "result = True\n",
    "\n",
    "if average > 65:\n",
    "        print(\"The average temperature exceeds 65ºC. Average = \", c)\n",
    "        result = False\n",
    "else:        \n",
    "    for c in temperatures_C:\n",
    "    \n",
    "        if c > 80:\n",
    "          print(\"Temperature is above 80ºC. Temperature =\", c)\n",
    "          result = False\n",
    "          break\n",
    "        elif c >= 70:\n",
    "            count += 1\n",
    "            if count == 4:\n",
    "                print(\"More than 4 temperatures are greater than or equal to 70ºC\")\n",
    "                result = False\n",
    "                break\n",
    "        else:\n",
    "         continue\n",
    "    \n",
    "if (not result):\n",
    "    print(\"The cooling system needs to be changed. \")"
   ]
  },
  {
   "cell_type": "markdown",
   "metadata": {},
   "source": [
    "## Bonus\n",
    "\n",
    "The company has decided that the decision you made is not valid. They want you to analyze the data again but this time, the conditions that need to be met in order to change the cooling system are different.\n",
    "\n",
    "This time, if one of the following events occurs, then the cooling system needs to be replaced:\n",
    "* The temperature is greater than 70ºC during more than 4 consecutive hours.\n",
    "* Any temperature is above 80ºC.\n",
    "* The average temperature exceeds 65ºC.\n",
    "\n",
    "Follow the steps so that you can make the decision.\n",
    "\n",
    "#### 1. Create a list with the hours where the temperature is greater than 70ºC. Store it in a variable."
   ]
  },
  {
   "cell_type": "code",
   "execution_count": 20,
   "metadata": {},
   "outputs": [],
   "source": [
    "consecutive_hours_70 = []\n",
    "count=0\n",
    "for c in temperatures_C:   \n",
    "    if c >= 70:\n",
    "          consecutive_hours_70.append(count)\n",
    "    count +=1"
   ]
  },
  {
   "cell_type": "markdown",
   "metadata": {},
   "source": [
    "#### 2. Check if the list you created in step 1 has more than 4 consecutive hours. "
   ]
  },
  {
   "cell_type": "code",
   "execution_count": 26,
   "metadata": {},
   "outputs": [],
   "source": [
    "count = 0\n",
    "consecutive_result = True\n",
    "for i in range(len(consecutive_hours_70)):\n",
    "    if(consecutive_hours_70[i+1] - consecutive_hours_70[i] == 1):\n",
    "        count +=1\n",
    "        if(count == 4):\n",
    "            consecutive_result = False\n",
    "            break\n",
    "    else:\n",
    "        count = 0"
   ]
  },
  {
   "cell_type": "markdown",
   "metadata": {},
   "source": [
    "#### 3. Make the decision!\n",
    "To make your decision, check if any of the three conditions is met. Print a message to show if the cooling system needs to be changed or not."
   ]
  },
  {
   "cell_type": "code",
   "execution_count": 29,
   "metadata": {},
   "outputs": [
    {
     "name": "stdout",
     "output_type": "stream",
     "text": [
      "The average temperature exceeds 70ºC for 4 consecutive hours\n",
      "The cooling system needs to be changed. \n"
     ]
    }
   ],
   "source": [
    "result = False\n",
    "if average > 65:\n",
    "        print(\"The average temperature exceeds 65ºC. Average = \", c)\n",
    "        result = False\n",
    "elif (consecutive_result == False):\n",
    "        print(\"The average temperature exceeds 70ºC for 4 consecutive hours\")\n",
    "        result = False \n",
    "        \n",
    "if(result):\n",
    "    for c in temperatures_C:\n",
    "         if c > 80:\n",
    "          print(\"Temperature is above 80ºC. Temperature =\", c)\n",
    "          result = False\n",
    "          break\n",
    "    \n",
    "if (not result):\n",
    "    print(\"The cooling system needs to be changed. \")"
   ]
  },
  {
   "cell_type": "markdown",
   "metadata": {},
   "source": [
    "#### 4. Find the average value of the temperature lists (ºC and ºF). What is the relation between both average values?"
   ]
  },
  {
   "cell_type": "code",
   "execution_count": 33,
   "metadata": {},
   "outputs": [
    {
     "name": "stdout",
     "output_type": "stream",
     "text": [
      "Average Celcius =  62\n",
      "Avergae Farenheit =  115\n"
     ]
    }
   ],
   "source": [
    "avg_C = int(average)\n",
    "avg_F = int(mean(temperatures_F))\n",
    "print(\"Average Celcius = \", avg_C)\n",
    "print(\"Avergae Farenheit = \", avg_F)"
   ]
  },
  {
   "cell_type": "markdown",
   "metadata": {},
   "source": [
    "#### 5. Find the standard deviation of the temperature lists (ºC and ºF). What is the relation between both standard deviations?"
   ]
  },
  {
   "cell_type": "code",
   "execution_count": 32,
   "metadata": {},
   "outputs": [
    {
     "name": "stdout",
     "output_type": "stream",
     "text": [
      "Standard Deviation in Celcius =  14\n",
      "Standard Deviation in Farenheir =  26\n"
     ]
    }
   ],
   "source": [
    "from statistics import stdev\n",
    "stdev_C = int(stdev(temperatures_C))\n",
    "stdev_F = int(stdev(temperatures_F))\n",
    "print(\"Standard Deviation in Celcius = \", stdev_C)\n",
    "print(\"Standard Deviation in Farenheir = \", stdev_F)"
   ]
  }
 ],
 "metadata": {
  "kernelspec": {
   "display_name": "Python 3",
   "language": "python",
   "name": "python3"
  },
  "language_info": {
   "codemirror_mode": {
    "name": "ipython",
    "version": 3
   },
   "file_extension": ".py",
   "mimetype": "text/x-python",
   "name": "python",
   "nbconvert_exporter": "python",
   "pygments_lexer": "ipython3",
   "version": "3.7.4"
  }
 },
 "nbformat": 4,
 "nbformat_minor": 2
}
